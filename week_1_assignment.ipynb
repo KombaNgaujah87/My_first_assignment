{
  "nbformat": 4,
  "nbformat_minor": 0,
  "metadata": {
    "colab": {
      "name": "week 1 assignment.ipynb",
      "provenance": []
    },
    "kernelspec": {
      "name": "python3",
      "display_name": "Python 3"
    }
  },
  "cells": [
    {
      "cell_type": "code",
      "metadata": {
        "colab": {
          "base_uri": "https://localhost:8080/"
        },
        "id": "MIcBXeMkoteg",
        "outputId": "dc757152-9a22-42ee-d622-8a0ed231b59b"
      },
      "source": [
        "\r\n",
        "unfolded_thickness = 0.00008\r\n",
        "folded_thickness = unfolded_thickness *2**43\r\n",
        "print(\"folded_thickness : {} meters\". format(folded_thickness))\r\n"
      ],
      "execution_count": 1,
      "outputs": [
        {
          "output_type": "stream",
          "text": [
            "folded_thickness : 703687441.77664 meters\n"
          ],
          "name": "stdout"
        }
      ]
    },
    {
      "cell_type": "code",
      "metadata": {
        "colab": {
          "base_uri": "https://localhost:8080/"
        },
        "id": "31FJFhNJsj52",
        "outputId": "ba15b28f-d826-4560-ed0b-051cba9b75b5"
      },
      "source": [
        "#converting to kilometer\r\n",
        "print(\"folded_thickness: {:.2f} km\". format(folded_thickness/1000))"
      ],
      "execution_count": 7,
      "outputs": [
        {
          "output_type": "stream",
          "text": [
            "folded_thickness: 703687.44 km\n"
          ],
          "name": "stdout"
        }
      ]
    },
    {
      "cell_type": "code",
      "metadata": {
        "id": "sCRtiRrivpsq"
      },
      "source": [
        "def sheet_paper(folds = 43, thickness = 0.00008):\r\n",
        "    for t in range(1, folds):\r\n",
        "      folded_thickness = thickness*2**43      \r\n",
        "      print(\"folded_thickness: {} meters\". format(folded_thicknes))\r\n",
        "      if folded_thickness >= 1000:\r\n",
        "         print(\"folded_thickness: {:.2f} km\". format(folded_thickness/1000))\r\n",
        "      else:\r\n",
        "        print(\"folded_thickness: {:.2f} meters\". format(folded_thickness/1000))"
      ],
      "execution_count": null,
      "outputs": []
    }
  ]
}